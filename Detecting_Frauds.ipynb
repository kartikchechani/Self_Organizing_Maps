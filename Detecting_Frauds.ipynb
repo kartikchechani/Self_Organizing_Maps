{
  "nbformat": 4,
  "nbformat_minor": 0,
  "metadata": {
    "colab": {
      "name": "Detecting_Frauds.ipynb",
      "provenance": [],
      "collapsed_sections": [],
      "include_colab_link": true
    },
    "kernelspec": {
      "name": "python3",
      "display_name": "Python 3"
    }
  },
  "cells": [
    {
      "cell_type": "markdown",
      "metadata": {
        "id": "view-in-github",
        "colab_type": "text"
      },
      "source": [
        "<a href=\"https://colab.research.google.com/github/kartikchechani/Self_Organizing_Maps/blob/master/Detecting_Frauds.ipynb\" target=\"_parent\"><img src=\"https://colab.research.google.com/assets/colab-badge.svg\" alt=\"Open In Colab\"/></a>"
      ]
    },
    {
      "cell_type": "markdown",
      "metadata": {
        "id": "t9oX7AL3nyLm",
        "colab_type": "text"
      },
      "source": [
        "#Self Organizing Map"
      ]
    },
    {
      "cell_type": "markdown",
      "metadata": {
        "id": "r9maNhdd65pB",
        "colab_type": "text"
      },
      "source": [
        "##Install MiniSom Package"
      ]
    },
    {
      "cell_type": "code",
      "metadata": {
        "id": "1KB28WUso0Bj",
        "colab_type": "code",
        "colab": {
          "base_uri": "https://localhost:8080/",
          "height": 188
        },
        "outputId": "8128cae3-e00f-4ea6-a854-aa82cf5634d5"
      },
      "source": [
        "!pip install MiniSom"
      ],
      "execution_count": 5,
      "outputs": [
        {
          "output_type": "stream",
          "text": [
            "Collecting MiniSom\n",
            "  Downloading https://files.pythonhosted.org/packages/9d/10/a1c1621000d5ca00c41695689551c1a4d6d245d7bbf099d81e067da3e8f2/MiniSom-2.2.6.tar.gz\n",
            "Building wheels for collected packages: MiniSom\n",
            "  Building wheel for MiniSom (setup.py) ... \u001b[?25l\u001b[?25hdone\n",
            "  Created wheel for MiniSom: filename=MiniSom-2.2.6-cp36-none-any.whl size=8525 sha256=24242f2b90b27bc765ae4ffa88f4d817b104696fc57768e8ffb8517967762277\n",
            "  Stored in directory: /root/.cache/pip/wheels/b8/c6/01/330066e36e1f7c826c96f656f9185822cfcdef0591315949ea\n",
            "Successfully built MiniSom\n",
            "Installing collected packages: MiniSom\n",
            "Successfully installed MiniSom-2.2.6\n"
          ],
          "name": "stdout"
        }
      ]
    },
    {
      "cell_type": "markdown",
      "metadata": {
        "id": "6AX0Y23PnyOI",
        "colab_type": "text"
      },
      "source": [
        "### Importing the libraries\n"
      ]
    },
    {
      "cell_type": "code",
      "metadata": {
        "id": "gaSkOFKKBB3b",
        "colab_type": "code",
        "colab": {}
      },
      "source": [
        "import numpy as np\n",
        "import pandas as pd\n",
        "import matplotlib.pyplot as plt"
      ],
      "execution_count": 1,
      "outputs": []
    },
    {
      "cell_type": "markdown",
      "metadata": {
        "id": "TM-vkLfbUyn9",
        "colab_type": "text"
      },
      "source": [
        "### Importing the dataset"
      ]
    },
    {
      "cell_type": "code",
      "metadata": {
        "id": "aPSB3m3pVFKy",
        "colab_type": "code",
        "colab": {}
      },
      "source": [
        "dataset = pd.read_csv('/content/Credit_Card_Applications.csv')\n",
        "X = dataset.iloc[:,:-1].values\n",
        "y = dataset.iloc[:,-1:].values"
      ],
      "execution_count": 2,
      "outputs": []
    },
    {
      "cell_type": "markdown",
      "metadata": {
        "id": "fYHJ0dd6n-d4",
        "colab_type": "text"
      },
      "source": [
        "## Feature Scaling\n"
      ]
    },
    {
      "cell_type": "code",
      "metadata": {
        "id": "VTNG-pgrVkiP",
        "colab_type": "code",
        "colab": {}
      },
      "source": [
        "from sklearn.preprocessing import MinMaxScaler\n",
        "sc = MinMaxScaler(feature_range = (0,1))\n",
        "X = sc.fit_transform(X)"
      ],
      "execution_count": 3,
      "outputs": []
    },
    {
      "cell_type": "markdown",
      "metadata": {
        "id": "aPp-7wfNoAhR",
        "colab_type": "text"
      },
      "source": [
        "##Training the SOM\n"
      ]
    },
    {
      "cell_type": "code",
      "metadata": {
        "id": "At3AOSqHXHQs",
        "colab_type": "code",
        "colab": {}
      },
      "source": [
        "from minisom import MiniSom\n",
        "som = MiniSom(x=10,y=10,input_len=15,sigma=1.0,learning_rate=0.5)\n",
        "som.random_weights_init(X)\n",
        "som.train_random(data=X,num_iteration=100)\n",
        "y_y = []\n",
        "for i in range(0,690):\n",
        "  y_y.append(y[i][0])\n",
        "\n",
        "y = y_y"
      ],
      "execution_count": 6,
      "outputs": []
    },
    {
      "cell_type": "markdown",
      "metadata": {
        "id": "YiU27C-ToCnH",
        "colab_type": "text"
      },
      "source": [
        "##Visualizing the results\n"
      ]
    },
    {
      "cell_type": "code",
      "metadata": {
        "id": "M55diQMNiqjR",
        "colab_type": "code",
        "colab": {
          "base_uri": "https://localhost:8080/",
          "height": 269
        },
        "outputId": "842f9ecd-4b7d-44b5-a127-595550669116"
      },
      "source": [
        "from pylab import bone, pcolor, colorbar, plot, show\n",
        "bone()\n",
        "pcolor(som.distance_map().T)\n",
        "colorbar()\n",
        "markers = ['o', 's']\n",
        "colors = ['r', 'g']\n",
        "for i, x in enumerate(X):\n",
        "    w = som.winner(x)\n",
        "    plot(w[0] + 0.5,\n",
        "         w[1] + 0.5,\n",
        "         markers[y[i]],\n",
        "         markeredgecolor = colors[y[i]],\n",
        "         \n",
        "         markerfacecolor = 'None',\n",
        "         markersize = 10,\n",
        "         markeredgewidth = 2)\n",
        "show()"
      ],
      "execution_count": 7,
      "outputs": [
        {
          "output_type": "display_data",
          "data": {
            "image/png": "[encoded data removed]",
            "text/plain": [
              "<Figure size 432x288 with 2 Axes>"
            ]
          },
          "metadata": {
            "tags": [],
            "needs_background": "light"
          }
        }
      ]
    },
    {
      "cell_type": "markdown",
      "metadata": {
        "id": "4C-I_jBfoEkP",
        "colab_type": "text"
      },
      "source": [
        "## Finding the frauds\n"
      ]
    },
    {
      "cell_type": "code",
      "metadata": {
        "id": "weMXPNMxs0FS",
        "colab_type": "code",
        "colab": {
          "base_uri": "https://localhost:8080/",
          "height": 470
        },
        "outputId": "0a8c9004-0f93-410d-eb80-049c64d10ac1"
      },
      "source": [
        "mappings = som.win_map(X)\n",
        "frauds = np.concatenate((mappings[(3,5)],mappings[(4,1)]),axis=0)\n",
        "frauds = sc.inverse_transform(frauds)\n",
        "frauds_new = []\n",
        "\n",
        "for i in range(0,27):\n",
        "  frauds_new.append(frauds[i][0])\n",
        "\n",
        "frauds = frauds_new\n",
        "frauds  \n"
      ],
      "execution_count": 18,
      "outputs": [
        {
          "output_type": "execute_result",
          "data": {
            "text/plain": [
              "[15767264.0,\n",
              " 15704581.0,\n",
              " 15761854.0,\n",
              " 15725776.0,\n",
              " 15815040.0,\n",
              " 15697460.0,\n",
              " 15788442.0,\n",
              " 15737998.0,\n",
              " 15718921.0,\n",
              " 15633944.0,\n",
              " 15607988.0,\n",
              " 15801072.0,\n",
              " 15683993.0,\n",
              " 15797767.0,\n",
              " 15744044.0,\n",
              " 15632010.0,\n",
              " 15804235.0,\n",
              " 15627365.0,\n",
              " 15573798.0,\n",
              " 15700300.0,\n",
              " 15647295.0,\n",
              " 15791944.0,\n",
              " 15576680.0,\n",
              " 15620570.0,\n",
              " 15592412.0,\n",
              " 15580914.0,\n",
              " 15607986.0]"
            ]
          },
          "metadata": {
            "tags": []
          },
          "execution_count": 18
        }
      ]
    },
    {
      "cell_type": "markdown",
      "metadata": {
        "id": "frXqAlpo84b1",
        "colab_type": "text"
      },
      "source": [
        "##Printing the Fraunch Clients"
      ]
    }
  ]
}